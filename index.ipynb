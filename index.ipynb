{
 "cells": [
  {
   "cell_type": "markdown",
   "id": "93d9323d",
   "metadata": {},
   "source": [
    "BONA FIDE AIRLINES BUSINESS PROPOSAL\n",
    "\n",
    "Introduction\n",
    "\n",
    "Bona Fide is expanding its horizons to venture into a new business which involves purchasing and operating airplanes for commercial and private enterprises. Therefore the company has no idea of the risks involved in aicraft operation and need research done to provide them with meaningful insights that will help in making the right decisions to purchase the lowest risk aircraft to start up the business. Ths will involve analysis of complex data to uncover patterns and develop insights. Data cleaning and visualization will be applied to come up with predictive models, and communicate the ultimate findings to the business stakeholders.\n"
   ]
  },
  {
   "cell_type": "markdown",
   "id": "bc3c8353",
   "metadata": {},
   "source": [
    "Data"
   ]
  },
  {
   "cell_type": "markdown",
   "id": "a9ed3bd0",
   "metadata": {},
   "source": [
    "A dataset provided by the National Transportation Safety Board will be used to derive data for this process. It entails aviation accident data from 1919 to 2023, civil aviation accidents and selected incidents in the US (including the specific regions that accidents occured) and international waters.\n"
   ]
  },
  {
   "cell_type": "markdown",
   "id": "bc0d5b0d",
   "metadata": {},
   "source": [
    "1:Importing Pandas"
   ]
  },
  {
   "cell_type": "code",
   "execution_count": 183,
   "id": "3010fddd",
   "metadata": {},
   "outputs": [],
   "source": [
    "import pandas as pd\n"
   ]
  },
  {
   "cell_type": "markdown",
   "id": "29353a94",
   "metadata": {},
   "source": [
    "2:Loading the Dataset which is a CSV file titled 'Aviation Accident from 1919-2023'. \n",
    "\n",
    "Here Pandas will read the files and provide information on the dataset for a better understanding of the data to help in manipulation and data cleaning processes."
   ]
  },
  {
   "cell_type": "code",
   "execution_count": 184,
   "id": "7a0c0cc8",
   "metadata": {},
   "outputs": [
    {
     "data": {
      "text/html": [
       "<div>\n",
       "<style scoped>\n",
       "    .dataframe tbody tr th:only-of-type {\n",
       "        vertical-align: middle;\n",
       "    }\n",
       "\n",
       "    .dataframe tbody tr th {\n",
       "        vertical-align: top;\n",
       "    }\n",
       "\n",
       "    .dataframe thead th {\n",
       "        text-align: right;\n",
       "    }\n",
       "</style>\n",
       "<table border=\"1\" class=\"dataframe\">\n",
       "  <thead>\n",
       "    <tr style=\"text-align: right;\">\n",
       "      <th></th>\n",
       "      <th>date</th>\n",
       "      <th>type</th>\n",
       "      <th>registration</th>\n",
       "      <th>operator</th>\n",
       "      <th>fatalities</th>\n",
       "      <th>location</th>\n",
       "      <th>country</th>\n",
       "      <th>cat</th>\n",
       "      <th>year</th>\n",
       "    </tr>\n",
       "  </thead>\n",
       "  <tbody>\n",
       "    <tr>\n",
       "      <th>0</th>\n",
       "      <td>date unk.</td>\n",
       "      <td>Antonov An-12B</td>\n",
       "      <td>T-1206</td>\n",
       "      <td>Indonesian AF</td>\n",
       "      <td>NaN</td>\n",
       "      <td>NaN</td>\n",
       "      <td>Unknown country</td>\n",
       "      <td>U1</td>\n",
       "      <td>unknown</td>\n",
       "    </tr>\n",
       "    <tr>\n",
       "      <th>1</th>\n",
       "      <td>date unk.</td>\n",
       "      <td>Antonov An-12B</td>\n",
       "      <td>T-1204</td>\n",
       "      <td>Indonesian AF</td>\n",
       "      <td>NaN</td>\n",
       "      <td>NaN</td>\n",
       "      <td>Unknown country</td>\n",
       "      <td>U1</td>\n",
       "      <td>unknown</td>\n",
       "    </tr>\n",
       "    <tr>\n",
       "      <th>2</th>\n",
       "      <td>date unk.</td>\n",
       "      <td>Antonov An-12B</td>\n",
       "      <td>T-1201</td>\n",
       "      <td>Indonesian AF</td>\n",
       "      <td>NaN</td>\n",
       "      <td>NaN</td>\n",
       "      <td>Unknown country</td>\n",
       "      <td>U1</td>\n",
       "      <td>unknown</td>\n",
       "    </tr>\n",
       "    <tr>\n",
       "      <th>3</th>\n",
       "      <td>date unk.</td>\n",
       "      <td>Antonov An-12BK</td>\n",
       "      <td>NaN</td>\n",
       "      <td>Soviet AF</td>\n",
       "      <td>NaN</td>\n",
       "      <td>Tiksi Airport (IKS)</td>\n",
       "      <td>Russia</td>\n",
       "      <td>A1</td>\n",
       "      <td>unknown</td>\n",
       "    </tr>\n",
       "    <tr>\n",
       "      <th>4</th>\n",
       "      <td>date unk.</td>\n",
       "      <td>Antonov An-12BP</td>\n",
       "      <td>CCCP-11815</td>\n",
       "      <td>Soviet AF</td>\n",
       "      <td>0</td>\n",
       "      <td>Massawa Airport ...</td>\n",
       "      <td>Eritrea</td>\n",
       "      <td>A1</td>\n",
       "      <td>unknown</td>\n",
       "    </tr>\n",
       "    <tr>\n",
       "      <th>...</th>\n",
       "      <td>...</td>\n",
       "      <td>...</td>\n",
       "      <td>...</td>\n",
       "      <td>...</td>\n",
       "      <td>...</td>\n",
       "      <td>...</td>\n",
       "      <td>...</td>\n",
       "      <td>...</td>\n",
       "      <td>...</td>\n",
       "    </tr>\n",
       "    <tr>\n",
       "      <th>23962</th>\n",
       "      <td>11-May-23</td>\n",
       "      <td>Hawker 900XP</td>\n",
       "      <td>PK-LRU</td>\n",
       "      <td>Angkasa Super Services</td>\n",
       "      <td>0</td>\n",
       "      <td>Maleo Airport (MOH)</td>\n",
       "      <td>Indonesia</td>\n",
       "      <td>A2</td>\n",
       "      <td>2023</td>\n",
       "    </tr>\n",
       "    <tr>\n",
       "      <th>23963</th>\n",
       "      <td>11-May-23</td>\n",
       "      <td>Cessna 208B Grand Caravan</td>\n",
       "      <td>PK-NGA</td>\n",
       "      <td>Nasional Global Aviasi</td>\n",
       "      <td>0</td>\n",
       "      <td>Fentheik Airstrip</td>\n",
       "      <td>Indonesia</td>\n",
       "      <td>A2</td>\n",
       "      <td>2023</td>\n",
       "    </tr>\n",
       "    <tr>\n",
       "      <th>23964</th>\n",
       "      <td>12-May-23</td>\n",
       "      <td>Cessna 208B Grand Caravan</td>\n",
       "      <td>5X-RBR</td>\n",
       "      <td>Bar Aviation</td>\n",
       "      <td>0</td>\n",
       "      <td>Kampala-Kajjansi...</td>\n",
       "      <td>Uganda</td>\n",
       "      <td>A1</td>\n",
       "      <td>2023</td>\n",
       "    </tr>\n",
       "    <tr>\n",
       "      <th>23965</th>\n",
       "      <td>14-May-23</td>\n",
       "      <td>Boeing 747-4R7F</td>\n",
       "      <td>LX-OCV</td>\n",
       "      <td>Cargolux</td>\n",
       "      <td>0</td>\n",
       "      <td>Luxembourg-Finde...</td>\n",
       "      <td>Luxembourg</td>\n",
       "      <td>A2</td>\n",
       "      <td>2023</td>\n",
       "    </tr>\n",
       "    <tr>\n",
       "      <th>23966</th>\n",
       "      <td>15-May-23</td>\n",
       "      <td>Learjet 35A</td>\n",
       "      <td>D-CGFQ</td>\n",
       "      <td>GFD</td>\n",
       "      <td>2</td>\n",
       "      <td>Hohn Air Base</td>\n",
       "      <td>Germany</td>\n",
       "      <td>A1</td>\n",
       "      <td>2023</td>\n",
       "    </tr>\n",
       "  </tbody>\n",
       "</table>\n",
       "<p>23967 rows × 9 columns</p>\n",
       "</div>"
      ],
      "text/plain": [
       "            date                       type registration  \\\n",
       "0      date unk.             Antonov An-12B       T-1206   \n",
       "1      date unk.             Antonov An-12B       T-1204   \n",
       "2      date unk.             Antonov An-12B       T-1201   \n",
       "3      date unk.            Antonov An-12BK          NaN   \n",
       "4      date unk.            Antonov An-12BP   CCCP-11815   \n",
       "...          ...                        ...          ...   \n",
       "23962  11-May-23               Hawker 900XP       PK-LRU   \n",
       "23963  11-May-23  Cessna 208B Grand Caravan       PK-NGA   \n",
       "23964  12-May-23  Cessna 208B Grand Caravan       5X-RBR   \n",
       "23965  14-May-23            Boeing 747-4R7F       LX-OCV   \n",
       "23966  15-May-23                Learjet 35A       D-CGFQ   \n",
       "\n",
       "                     operator fatalities             location  \\\n",
       "0               Indonesian AF        NaN                  NaN   \n",
       "1               Indonesian AF        NaN                  NaN   \n",
       "2               Indonesian AF        NaN                  NaN   \n",
       "3                   Soviet AF        NaN  Tiksi Airport (IKS)   \n",
       "4                   Soviet AF          0  Massawa Airport ...   \n",
       "...                       ...        ...                  ...   \n",
       "23962  Angkasa Super Services          0  Maleo Airport (MOH)   \n",
       "23963  Nasional Global Aviasi          0    Fentheik Airstrip   \n",
       "23964            Bar Aviation          0  Kampala-Kajjansi...   \n",
       "23965                Cargolux          0  Luxembourg-Finde...   \n",
       "23966                     GFD          2        Hohn Air Base   \n",
       "\n",
       "               country cat     year  \n",
       "0      Unknown country  U1  unknown  \n",
       "1      Unknown country  U1  unknown  \n",
       "2      Unknown country  U1  unknown  \n",
       "3               Russia  A1  unknown  \n",
       "4              Eritrea  A1  unknown  \n",
       "...                ...  ..      ...  \n",
       "23962        Indonesia  A2     2023  \n",
       "23963        Indonesia  A2     2023  \n",
       "23964           Uganda  A1     2023  \n",
       "23965       Luxembourg  A2     2023  \n",
       "23966          Germany  A1     2023  \n",
       "\n",
       "[23967 rows x 9 columns]"
      ]
     },
     "execution_count": 184,
     "metadata": {},
     "output_type": "execute_result"
    }
   ],
   "source": [
    "df = pd.read_csv('aviation-accident-data-2023-05-16.csv')\n",
    "df"
   ]
  },
  {
   "cell_type": "code",
   "execution_count": 185,
   "id": "8d8bd52f",
   "metadata": {},
   "outputs": [
    {
     "name": "stdout",
     "output_type": "stream",
     "text": [
      "<class 'pandas.core.frame.DataFrame'>\n",
      "RangeIndex: 23967 entries, 0 to 23966\n",
      "Data columns (total 9 columns):\n",
      " #   Column        Non-Null Count  Dtype \n",
      "---  ------        --------------  ----- \n",
      " 0   date          23967 non-null  object\n",
      " 1   type          23967 non-null  object\n",
      " 2   registration  22419 non-null  object\n",
      " 3   operator      23963 non-null  object\n",
      " 4   fatalities    20029 non-null  object\n",
      " 5   location      23019 non-null  object\n",
      " 6   country       23967 non-null  object\n",
      " 7   cat           23967 non-null  object\n",
      " 8   year          23967 non-null  object\n",
      "dtypes: object(9)\n",
      "memory usage: 1.6+ MB\n"
     ]
    }
   ],
   "source": [
    "df.info()"
   ]
  },
  {
   "cell_type": "code",
   "execution_count": 186,
   "id": "d252dbba",
   "metadata": {},
   "outputs": [
    {
     "data": {
      "text/plain": [
       "Index(['date', 'type', 'registration', 'operator', 'fatalities', 'location',\n",
       "       'country', 'cat', 'year'],\n",
       "      dtype='object')"
      ]
     },
     "execution_count": 186,
     "metadata": {},
     "output_type": "execute_result"
    }
   ],
   "source": [
    "df.columns"
   ]
  },
  {
   "cell_type": "markdown",
   "id": "82583b32",
   "metadata": {},
   "source": [
    "3:Checking for duplicated values in our dataset and omitting them"
   ]
  },
  {
   "cell_type": "code",
   "execution_count": 188,
   "id": "2ee21574",
   "metadata": {},
   "outputs": [
    {
     "data": {
      "text/plain": [
       "False    23852\n",
       "True       115\n",
       "dtype: int64"
      ]
     },
     "execution_count": 188,
     "metadata": {},
     "output_type": "execute_result"
    }
   ],
   "source": [
    "df.duplicated().value_counts()"
   ]
  },
  {
   "cell_type": "code",
   "execution_count": 189,
   "id": "27bd8084",
   "metadata": {},
   "outputs": [],
   "source": [
    "df = df.drop_duplicates()\n"
   ]
  },
  {
   "cell_type": "code",
   "execution_count": 190,
   "id": "58cbe474",
   "metadata": {},
   "outputs": [
    {
     "data": {
      "text/plain": [
       "False    23852\n",
       "dtype: int64"
      ]
     },
     "execution_count": 190,
     "metadata": {},
     "output_type": "execute_result"
    }
   ],
   "source": [
    "df.duplicated().value_counts()"
   ]
  },
  {
   "cell_type": "markdown",
   "id": "2101d32e",
   "metadata": {},
   "source": [
    "4:Dealing with the missing values in the dataset"
   ]
  },
  {
   "cell_type": "code",
   "execution_count": 191,
   "id": "dbf875a2",
   "metadata": {},
   "outputs": [
    {
     "data": {
      "text/plain": [
       "date               0\n",
       "type               0\n",
       "registration    1434\n",
       "operator           4\n",
       "fatalities      3833\n",
       "location         932\n",
       "country            0\n",
       "cat                0\n",
       "year               0\n",
       "dtype: int64"
      ]
     },
     "execution_count": 191,
     "metadata": {},
     "output_type": "execute_result"
    }
   ],
   "source": [
    "df.isna().sum()"
   ]
  },
  {
   "cell_type": "code",
   "execution_count": 192,
   "id": "ab20e8e9",
   "metadata": {},
   "outputs": [],
   "source": [
    "df.loc[:,'registration'] = df['registration'].fillna('Unknown')\n"
   ]
  },
  {
   "cell_type": "code",
   "execution_count": 193,
   "id": "3a5a86cd",
   "metadata": {},
   "outputs": [],
   "source": [
    "df.loc[:, 'location'] = df['location'].fillna('Unknown')"
   ]
  },
  {
   "cell_type": "code",
   "execution_count": 194,
   "id": "11e9ca74",
   "metadata": {},
   "outputs": [],
   "source": [
    "df.loc[:, 'fatalities'] = df['fatalities'].fillna(0)"
   ]
  },
  {
   "cell_type": "code",
   "execution_count": 195,
   "id": "b53f6878",
   "metadata": {},
   "outputs": [],
   "source": [
    "df.loc[:, 'operator'] = df['operator'].fillna('Unknown')"
   ]
  },
  {
   "cell_type": "code",
   "execution_count": 196,
   "id": "6d859f25",
   "metadata": {},
   "outputs": [
    {
     "data": {
      "text/plain": [
       "date            0\n",
       "type            0\n",
       "registration    0\n",
       "operator        0\n",
       "fatalities      0\n",
       "location        0\n",
       "country         0\n",
       "cat             0\n",
       "year            0\n",
       "dtype: int64"
      ]
     },
     "execution_count": 196,
     "metadata": {},
     "output_type": "execute_result"
    }
   ],
   "source": [
    "df.isna().sum() "
   ]
  },
  {
   "cell_type": "markdown",
   "id": "e2bbc1ed",
   "metadata": {},
   "source": [
    "5:Converting Data Types"
   ]
  },
  {
   "cell_type": "markdown",
   "id": "2268da61",
   "metadata": {},
   "source": [
    "All the data types are 'object' hence it is necessary to convert some columns into different data types in order to have several options when finally working on the visualizations"
   ]
  },
  {
   "cell_type": "code",
   "execution_count": 197,
   "id": "99390bac",
   "metadata": {},
   "outputs": [],
   "source": [
    "df.loc[:,'fatalities'] = pd.to_numeric(df['fatalities'], errors='coerce')\n",
    "\n",
    "\n"
   ]
  },
  {
   "cell_type": "code",
   "execution_count": 198,
   "id": "d4d9ec9b",
   "metadata": {},
   "outputs": [],
   "source": [
    "df['year'] = pd.to_numeric(df['year'], errors='coerce')\n",
    "\n",
    "df = df.dropna(subset=['year'])\n",
    "df['year'] = df['year'].astype(int)\n"
   ]
  },
  {
   "cell_type": "code",
   "execution_count": 199,
   "id": "dd707116",
   "metadata": {},
   "outputs": [],
   "source": [
    "categorical_cols = ['type', 'operator', 'country', 'location', 'cat']\n",
    "df[categorical_cols] = df[categorical_cols].astype('category')\n"
   ]
  },
  {
   "cell_type": "code",
   "execution_count": 200,
   "id": "eb0632cd",
   "metadata": {},
   "outputs": [
    {
     "name": "stdout",
     "output_type": "stream",
     "text": [
      "date              object\n",
      "type            category\n",
      "registration      object\n",
      "operator        category\n",
      "fatalities       float64\n",
      "location        category\n",
      "country         category\n",
      "cat             category\n",
      "year               int64\n",
      "dtype: object\n"
     ]
    }
   ],
   "source": [
    "print(df.dtypes)"
   ]
  },
  {
   "cell_type": "code",
   "execution_count": 201,
   "id": "76e4e2a2",
   "metadata": {},
   "outputs": [
    {
     "data": {
      "text/plain": [
       "date              0\n",
       "type              0\n",
       "registration      0\n",
       "operator          0\n",
       "fatalities      353\n",
       "location          0\n",
       "country           0\n",
       "cat               0\n",
       "year              0\n",
       "dtype: int64"
      ]
     },
     "execution_count": 201,
     "metadata": {},
     "output_type": "execute_result"
    }
   ],
   "source": [
    "df.isna().sum()"
   ]
  },
  {
   "cell_type": "code",
   "execution_count": 202,
   "id": "99a69956",
   "metadata": {},
   "outputs": [],
   "source": [
    "df.dropna(axis=0, inplace=True)"
   ]
  },
  {
   "cell_type": "code",
   "execution_count": 203,
   "id": "9dc17590",
   "metadata": {},
   "outputs": [
    {
     "data": {
      "text/plain": [
       "date            0\n",
       "type            0\n",
       "registration    0\n",
       "operator        0\n",
       "fatalities      0\n",
       "location        0\n",
       "country         0\n",
       "cat             0\n",
       "year            0\n",
       "dtype: int64"
      ]
     },
     "execution_count": 203,
     "metadata": {},
     "output_type": "execute_result"
    }
   ],
   "source": [
    "df.isna().sum()"
   ]
  },
  {
   "cell_type": "code",
   "execution_count": 204,
   "id": "da99443c",
   "metadata": {},
   "outputs": [
    {
     "name": "stdout",
     "output_type": "stream",
     "text": [
      "<class 'pandas.core.frame.DataFrame'>\n",
      "Int64Index: 23438 entries, 61 to 23966\n",
      "Data columns (total 9 columns):\n",
      " #   Column        Non-Null Count  Dtype   \n",
      "---  ------        --------------  -----   \n",
      " 0   date          23438 non-null  object  \n",
      " 1   type          23438 non-null  category\n",
      " 2   registration  23438 non-null  object  \n",
      " 3   operator      23438 non-null  category\n",
      " 4   fatalities    23438 non-null  float64 \n",
      " 5   location      23438 non-null  category\n",
      " 6   country       23438 non-null  category\n",
      " 7   cat           23438 non-null  category\n",
      " 8   year          23438 non-null  int64   \n",
      "dtypes: category(5), float64(1), int64(1), object(2)\n",
      "memory usage: 2.2+ MB\n"
     ]
    }
   ],
   "source": [
    "df.info()"
   ]
  },
  {
   "cell_type": "markdown",
   "id": "d12fb0c6",
   "metadata": {},
   "source": [
    "6:Creating Data Visualizations\n",
    "\n",
    "Done with the data cleaning process and now we have data that can be used to create accurate visualizations. We'll\n",
    "work with data from 1963 to 2023 for the visualizations for more clarity and simplicity in the output of the graphs. "
   ]
  },
  {
   "cell_type": "code",
   "execution_count": 205,
   "id": "1c409c43",
   "metadata": {},
   "outputs": [
    {
     "name": "stdout",
     "output_type": "stream",
     "text": [
      "            date                           type registration  \\\n",
      "9472   01-Jan-63  Fairchild C-119 Flying Boxcar      Unknown   \n",
      "9473   07-Jan-63          Lockheed P-2H Neptune       140966   \n",
      "9474   10-Jan-63          Lockheed P-2H Neptune       135559   \n",
      "9475   11-Jan-63                  Curtiss C-46E       CF-HTI   \n",
      "9476   11-Jan-63  Lockheed L-749A Constellation       F-BAZM   \n",
      "...          ...                            ...          ...   \n",
      "23962  11-May-23                   Hawker 900XP       PK-LRU   \n",
      "23963  11-May-23      Cessna 208B Grand Caravan       PK-NGA   \n",
      "23964  12-May-23      Cessna 208B Grand Caravan       5X-RBR   \n",
      "23965  14-May-23                Boeing 747-4R7F       LX-OCV   \n",
      "23966  15-May-23                    Learjet 35A       D-CGFQ   \n",
      "\n",
      "                       operator  fatalities                  location  \\\n",
      "9472                  Indian AF         2.0                  Banhilal   \n",
      "9473                    US Navy         0.0  near Alameda NAS, CA ...   \n",
      "9474                    US Navy         7.0       Kodiak NAS, AK (...   \n",
      "9475   Maritime Central Airways         0.0       Moncton-Metropol...   \n",
      "9476                       SGAC        12.0            near PÃ©rillos   \n",
      "...                         ...         ...                       ...   \n",
      "23962    Angkasa Super Services         0.0       Maleo Airport (MOH)   \n",
      "23963    Nasional Global Aviasi         0.0         Fentheik Airstrip   \n",
      "23964              Bar Aviation         0.0       Kampala-Kajjansi...   \n",
      "23965                  Cargolux         0.0       Luxembourg-Finde...   \n",
      "23966                       GFD         2.0             Hohn Air Base   \n",
      "\n",
      "          country cat  year  \n",
      "9472        India  A1  1963  \n",
      "9473          USA  A1  1963  \n",
      "9474          USA  A1  1963  \n",
      "9475       Canada  O1  1963  \n",
      "9476       France  A1  1963  \n",
      "...           ...  ..   ...  \n",
      "23962   Indonesia  A2  2023  \n",
      "23963   Indonesia  A2  2023  \n",
      "23964      Uganda  A1  2023  \n",
      "23965  Luxembourg  A2  2023  \n",
      "23966     Germany  A1  2023  \n",
      "\n",
      "[14241 rows x 9 columns]\n"
     ]
    }
   ],
   "source": [
    "\n",
    "df_filtered = df[(df['year'] >= 1963) & (df['year'] <= 2023)]\n",
    "\n",
    "print(df_filtered)\n"
   ]
  },
  {
   "cell_type": "markdown",
   "id": "966981a3",
   "metadata": {},
   "source": [
    "Import Matplotlib and Seaborn which are the necessary libraries to start working on the visualizations.\n"
   ]
  },
  {
   "cell_type": "code",
   "execution_count": 206,
   "id": "680bcacb",
   "metadata": {},
   "outputs": [],
   "source": [
    "import matplotlib.pyplot as plt\n",
    "import seaborn as sns"
   ]
  },
  {
   "cell_type": "code",
   "execution_count": 207,
   "id": "5ab29d75",
   "metadata": {},
   "outputs": [],
   "source": [
    "import warnings\n",
    "warnings.filterwarnings(\"ignore\")\n"
   ]
  },
  {
   "cell_type": "markdown",
   "id": "23c749c0",
   "metadata": {},
   "source": [
    "A line graph illustrating a pattern in which accidents occured between the year 1963 to 2023"
   ]
  },
  {
   "cell_type": "code",
   "execution_count": 217,
   "id": "58e6afb2",
   "metadata": {},
   "outputs": [
    {
     "data": {
      "image/png": "[encoded data removed]",
      "text/plain": [
       "<Figure size 864x432 with 1 Axes>"
      ]
     },
     "metadata": {
      "needs_background": "light"
     },
     "output_type": "display_data"
    }
   ],
   "source": [
    "\n",
    "accidents_per_year = df_filtered.groupby('year').size()\n",
    "\n",
    "plt.figure(figsize=(12,6))\n",
    "accidents_per_year.plot(kind='line', marker='o', color='r')\n",
    "plt.title(\"Number of Aviation Accidents per Year (1963–2023)\")\n",
    "plt.xlabel(\"Year\")\n",
    "plt.ylabel(\"Number of Accidents\")\n",
    "plt.grid(True)\n",
    "plt.show()\n"
   ]
  },
  {
   "cell_type": "markdown",
   "id": "b506dca6",
   "metadata": {},
   "source": [
    "A bar chart of accidents encountered within five year intervals form 1963-2023"
   ]
  },
  {
   "cell_type": "code",
   "execution_count": 209,
   "id": "a15215ed",
   "metadata": {},
   "outputs": [
    {
     "data": {
      "image/png": "[encoded data removed]",
      "text/plain": [
       "<Figure size 864x432 with 1 Axes>"
      ]
     },
     "metadata": {
      "needs_background": "light"
     },
     "output_type": "display_data"
    }
   ],
   "source": [
    "# Create 5-year intervals\n",
    "df_filtered['year_bin'] = pd.cut(df_filtered['year'],bins=range(1963, 2028, 5))\n",
    "\n",
    "accidents_per_bin = df_sample.groupby('year_bin').size()\n",
    "\n",
    "plt.figure(figsize=(12,6))\n",
    "accidents_per_bin.plot(kind='bar')\n",
    "plt.title(\"Accidents by 5-Year Interval (1963–2023)\")\n",
    "plt.xlabel(\"5-Year Interval\")\n",
    "plt.ylabel(\"Number of Accidents\")\n",
    "plt.xticks(rotation=45)\n",
    "plt.show()\n"
   ]
  },
  {
   "cell_type": "markdown",
   "id": "c4e151db",
   "metadata": {},
   "source": [
    "A Horizontal Bar Chart of the aicraft types most involved in the accidents"
   ]
  },
  {
   "cell_type": "code",
   "execution_count": 210,
   "id": "31ec8b1a",
   "metadata": {},
   "outputs": [
    {
     "data": {
      "image/png": "[encoded data removed]",
      "text/plain": [
       "<Figure size 720x432 with 1 Axes>"
      ]
     },
     "metadata": {
      "needs_background": "light"
     },
     "output_type": "display_data"
    }
   ],
   "source": [
    "common_types = df_filtered['type'].value_counts().head(10)\n",
    "\n",
    "plt.figure(figsize=(10,6))\n",
    "common_types.plot(kind='barh', color='teal')\n",
    "plt.title(\"Top 10 Aircraft Types Involved in Accidents (1963–2023)\")\n",
    "plt.xlabel(\"Number of Accidents\")\n",
    "plt.ylabel(\"Aircraft Type\")\n",
    "plt.show()\n"
   ]
  },
  {
   "cell_type": "markdown",
   "id": "01253a3d",
   "metadata": {},
   "source": [
    "A scatterplot showing the fatalities in the accidents."
   ]
  },
  {
   "cell_type": "code",
   "execution_count": 211,
   "id": "6a3337f5",
   "metadata": {},
   "outputs": [
    {
     "data": {
      "image/png": "[encoded data removed]",
      "text/plain": [
       "<Figure size 864x432 with 1 Axes>"
      ]
     },
     "metadata": {
      "needs_background": "light"
     },
     "output_type": "display_data"
    }
   ],
   "source": [
    "\n",
    "df_filtered['fatalities_num'] = pd.to_numeric(df_filtered['fatalities'], errors='coerce')\n",
    "\n",
    "plt.figure(figsize=(12,6))\n",
    "plt.scatter(df_filtered['year'], df_filtered['fatalities_num'], color='red')\n",
    "\n",
    "plt.title(\"Scatter Plot of Fatalities in Aviation Accidents (1963–2023)\")\n",
    "plt.xlabel(\"Year\")\n",
    "plt.ylabel(\"Fatalities\")\n",
    "plt.grid(True, linestyle='--')\n",
    "plt.show()\n"
   ]
  },
  {
   "cell_type": "code",
   "execution_count": 212,
   "id": "fe3020e5",
   "metadata": {},
   "outputs": [
    {
     "data": {
      "image/png": "[encoded data removed]",
      "text/plain": [
       "<Figure size 864x432 with 1 Axes>"
      ]
     },
     "metadata": {
      "needs_background": "light"
     },
     "output_type": "display_data"
    }
   ],
   "source": [
    "top_operators = df_filtered['operator'].value_counts().head(10)\n",
    "\n",
    "plt.figure(figsize=(12,6))\n",
    "top_operators.plot(kind='barh', color='steelblue')\n",
    "plt.title(\"Top 10 Operators by Aviation Accidents (1963–2023)\")\n",
    "plt.xlabel(\"Operator\")\n",
    "plt.ylabel(\"Number of Accidents\")\n",
    "plt.xticks(rotation=45, ha='right')\n",
    "plt.show()\n"
   ]
  },
  {
   "cell_type": "code",
   "execution_count": 218,
   "id": "27dc9c5c",
   "metadata": {},
   "outputs": [],
   "source": [
    "df.to_csv('cleaned_aviation_data.csv', index=False)"
   ]
  },
  {
   "cell_type": "code",
   "execution_count": 219,
   "id": "9b9049c3",
   "metadata": {},
   "outputs": [],
   "source": [
    "\n",
    "df_filtered = df[(df['year'] >= 1963) & (df['year'] <= 2028)].copy()\n",
    "\n",
    "df_filtered.to_csv('cleaned_aviation_data_1963_2028.csv', index=False)\n"
   ]
  }
 ],
 "metadata": {
  "kernelspec": {
   "display_name": "Python (learn-env)",
   "language": "python",
   "name": "learn-env"
  },
  "language_info": {
   "codemirror_mode": {
    "name": "ipython",
    "version": 3
   },
   "file_extension": ".py",
   "mimetype": "text/x-python",
   "name": "python",
   "nbconvert_exporter": "python",
   "pygments_lexer": "ipython3",
   "version": "3.8.5"
  }
 },
 "nbformat": 4,
 "nbformat_minor": 5
}
